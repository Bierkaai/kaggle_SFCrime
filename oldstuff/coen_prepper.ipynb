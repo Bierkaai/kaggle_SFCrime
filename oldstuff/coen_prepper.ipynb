{
 "cells": [
  {
   "cell_type": "code",
   "execution_count": 34,
   "metadata": {
    "collapsed": true
   },
   "outputs": [],
   "source": [
    "from load_data import load_data\n",
    "import pandas as pd\n",
    "import numpy as np"
   ]
  },
  {
   "cell_type": "code",
   "execution_count": 117,
   "metadata": {
    "collapsed": true
   },
   "outputs": [],
   "source": [
    "train_data = np.load('../data/train.npy')\n",
    "classes = np.load('../data/classes.npy')\n",
    "names = np.load('../data/names.npy')\n",
    "labels = np.load('../data/labels.npy')"
   ]
  },
  {
   "cell_type": "code",
   "execution_count": 118,
   "metadata": {
    "collapsed": false
   },
   "outputs": [
    {
     "data": {
      "text/plain": [
       "array(['Dates', 'DayOfWeek', 'PdDistrict', 'Address', 'X', 'Y',\n",
       "       'WeekNumber'], dtype=object)"
      ]
     },
     "execution_count": 118,
     "metadata": {},
     "output_type": "execute_result"
    }
   ],
   "source": [
    "names"
   ]
  },
  {
   "cell_type": "code",
   "execution_count": 158,
   "metadata": {
    "collapsed": false
   },
   "outputs": [
    {
     "data": {
      "text/plain": [
       "array([['2015-04-15 01:30:00', 'Wednesday', 'CENTRAL',\n",
       "        '500 Block of SUTTER ST', -122.40942360467501, 37.7890647342848,\n",
       "        642],\n",
       "       ['2008-03-19 15:00:00', 'Wednesday', 'PARK',\n",
       "        '2400 Block of GEARY BL', -122.44364285254, 37.7829183663086, 273],\n",
       "       ['2012-10-18 07:40:00', 'Thursday', 'TARAVAL',\n",
       "        '100 Block of GRAFTON AV', -122.454616903212, 37.7199820184131, 512],\n",
       "       ['2007-04-22 00:01:00', 'Sunday', 'MISSION',\n",
       "        '19TH ST / SHOTWELL ST', -122.415929849548, 37.7604330003754, 225],\n",
       "       ['2006-04-04 21:05:00', 'Tuesday', 'MISSION', '18TH ST / FOLSOM ST',\n",
       "        -122.415000536786, 37.7620990020681, 171],\n",
       "       ['2007-04-22 11:11:00', 'Sunday', 'TENDERLOIN',\n",
       "        'LEAVENWORTH ST / TURK ST', -122.414056291891, 37.7827931071006,\n",
       "        225],\n",
       "       ['2014-03-19 14:10:00', 'Wednesday', 'CENTRAL',\n",
       "        '800 Block of JONES ST', -122.41370505887501, 37.7890640478934, 586],\n",
       "       ['2003-11-25 22:09:00', 'Tuesday', 'NORTHERN',\n",
       "        '1600 Block of PACIFIC AV', -122.422431723545, 37.794974567141, 48],\n",
       "       ['2005-05-18 19:10:00', 'Wednesday', 'MISSION',\n",
       "        '2200 Block of MARKET ST', -122.432198022433, 37.7651107322703, 125],\n",
       "       ['2011-04-22 00:01:00', 'Friday', 'SOUTHERN',\n",
       "        '200 Block of 10TH ST', -122.413532099084, 37.77345468079321, 434],\n",
       "       ['2005-11-20 12:10:00', 'Sunday', 'NORTHERN',\n",
       "        '600 Block of FULTON ST', -122.428249599273, 37.7780677663985, 151],\n",
       "       ['2005-10-31 11:00:00', 'Monday', 'NORTHERN',\n",
       "        '1300 Block of BUSH ST', -122.41948623404899, 37.7887480806774, 149],\n",
       "       ['2004-02-03 10:00:00', 'Tuesday', 'NORTHERN',\n",
       "        'LAGUNA ST / BUSH ST', -122.42852844365801, 37.7876500488633, 58],\n",
       "       ['2012-02-06 20:00:00', 'Monday', 'NORTHERN',\n",
       "        '800 Block of MCALLISTER ST', -122.42521142911, 37.7795180588339,\n",
       "        476],\n",
       "       ['2005-08-09 11:00:00', 'Tuesday', 'BAYVIEW',\n",
       "        '800 Block of 22ND ST', -122.389733161027, 37.75779943924179, 137],\n",
       "       ['2003-06-11 16:07:00', 'Wednesday', 'NORTHERN',\n",
       "        '100 Block of GROVE ST', -122.419085788323, 37.7784353333225, 24],\n",
       "       ['2008-01-24 11:00:00', 'Thursday', 'NORTHERN',\n",
       "        '2300 Block of BUCHANAN ST', -122.43107316900699,\n",
       "        37.79156871030021, 265],\n",
       "       ['2006-06-30 22:15:00', 'Friday', 'TENDERLOIN',\n",
       "        'MARKET ST / 8TH ST', -122.414743835382, 37.778719262789004, 183],\n",
       "       ['2007-08-10 19:50:00', 'Friday', 'BAYVIEW',\n",
       "        '1300 Block of FITZGERALD AV', -122.39414405701,\n",
       "        37.722518894934396, 241],\n",
       "       ['2013-03-08 10:00:00', 'Friday', 'INGLESIDE',\n",
       "        '0 Block of PHELAN AV', -122.452289660492, 37.72569335757029, 532]], dtype=object)"
      ]
     },
     "execution_count": 158,
     "metadata": {},
     "output_type": "execute_result"
    }
   ],
   "source": [
    "s = train_data[np.random.choice(range(np.shape(train_data)[0]), 20)]\n",
    "s"
   ]
  },
  {
   "cell_type": "code",
   "execution_count": 173,
   "metadata": {
    "collapsed": true
   },
   "outputs": [],
   "source": [
    "def splitter(arr, i, splitoff):\n",
    "    if len(splitoff) == 0:\n",
    "        return []\n",
    "    s = splitoff.pop()\n",
    "    ids = arr[:,i]==s\n",
    "    return [(s, arr[ids])] + splitter(arr[~ids], i, splitoff)\n",
    "    "
   ]
  },
  {
   "cell_type": "code",
   "execution_count": 175,
   "metadata": {
    "collapsed": false
   },
   "outputs": [
    {
     "data": {
      "text/plain": [
       "{'Friday': array([['2011-04-22 00:01:00', 'Friday', 'SOUTHERN',\n",
       "         '200 Block of 10TH ST', -122.413532099084, 37.77345468079321, 434],\n",
       "        ['2006-06-30 22:15:00', 'Friday', 'TENDERLOIN',\n",
       "         'MARKET ST / 8TH ST', -122.414743835382, 37.778719262789004, 183],\n",
       "        ['2007-08-10 19:50:00', 'Friday', 'BAYVIEW',\n",
       "         '1300 Block of FITZGERALD AV', -122.39414405701,\n",
       "         37.722518894934396, 241],\n",
       "        ['2013-03-08 10:00:00', 'Friday', 'INGLESIDE',\n",
       "         '0 Block of PHELAN AV', -122.452289660492, 37.72569335757029, 532]], dtype=object),\n",
       " 'Monday': array([['2005-10-31 11:00:00', 'Monday', 'NORTHERN',\n",
       "         '1300 Block of BUSH ST', -122.41948623404899, 37.7887480806774, 149],\n",
       "        ['2012-02-06 20:00:00', 'Monday', 'NORTHERN',\n",
       "         '800 Block of MCALLISTER ST', -122.42521142911, 37.7795180588339,\n",
       "         476]], dtype=object),\n",
       " 'Saturday': array([], shape=(0, 7), dtype=object),\n",
       " 'Sunday': array([['2007-04-22 00:01:00', 'Sunday', 'MISSION',\n",
       "         '19TH ST / SHOTWELL ST', -122.415929849548, 37.7604330003754, 225],\n",
       "        ['2007-04-22 11:11:00', 'Sunday', 'TENDERLOIN',\n",
       "         'LEAVENWORTH ST / TURK ST', -122.414056291891, 37.7827931071006,\n",
       "         225],\n",
       "        ['2005-11-20 12:10:00', 'Sunday', 'NORTHERN',\n",
       "         '600 Block of FULTON ST', -122.428249599273, 37.7780677663985, 151]], dtype=object),\n",
       " 'Thursday': array([['2012-10-18 07:40:00', 'Thursday', 'TARAVAL',\n",
       "         '100 Block of GRAFTON AV', -122.454616903212, 37.7199820184131, 512],\n",
       "        ['2008-01-24 11:00:00', 'Thursday', 'NORTHERN',\n",
       "         '2300 Block of BUCHANAN ST', -122.43107316900699,\n",
       "         37.79156871030021, 265]], dtype=object),\n",
       " 'Tuesday': array([['2006-04-04 21:05:00', 'Tuesday', 'MISSION', '18TH ST / FOLSOM ST',\n",
       "         -122.415000536786, 37.7620990020681, 171],\n",
       "        ['2003-11-25 22:09:00', 'Tuesday', 'NORTHERN',\n",
       "         '1600 Block of PACIFIC AV', -122.422431723545, 37.794974567141, 48],\n",
       "        ['2004-02-03 10:00:00', 'Tuesday', 'NORTHERN',\n",
       "         'LAGUNA ST / BUSH ST', -122.42852844365801, 37.7876500488633, 58],\n",
       "        ['2005-08-09 11:00:00', 'Tuesday', 'BAYVIEW',\n",
       "         '800 Block of 22ND ST', -122.389733161027, 37.75779943924179, 137]], dtype=object),\n",
       " 'Wednesday': array([['2015-04-15 01:30:00', 'Wednesday', 'CENTRAL',\n",
       "         '500 Block of SUTTER ST', -122.40942360467501, 37.7890647342848,\n",
       "         642],\n",
       "        ['2008-03-19 15:00:00', 'Wednesday', 'PARK',\n",
       "         '2400 Block of GEARY BL', -122.44364285254, 37.7829183663086, 273],\n",
       "        ['2014-03-19 14:10:00', 'Wednesday', 'CENTRAL',\n",
       "         '800 Block of JONES ST', -122.41370505887501, 37.7890640478934, 586],\n",
       "        ['2005-05-18 19:10:00', 'Wednesday', 'MISSION',\n",
       "         '2200 Block of MARKET ST', -122.432198022433, 37.7651107322703, 125],\n",
       "        ['2003-06-11 16:07:00', 'Wednesday', 'NORTHERN',\n",
       "         '100 Block of GROVE ST', -122.419085788323, 37.7784353333225, 24]], dtype=object)}"
      ]
     },
     "execution_count": 175,
     "metadata": {},
     "output_type": "execute_result"
    }
   ],
   "source": [
    "dict(splitter(s, 1, ['Monday', 'Tuesday', 'Wednesday', 'Thursday', 'Friday', 'Saturday', 'Sunday']))"
   ]
  },
  {
   "cell_type": "code",
   "execution_count": 109,
   "metadata": {
    "collapsed": false
   },
   "outputs": [
    {
     "data": {
      "text/plain": [
       "<module 'coen_models' from 'coen_models.pyc'>"
      ]
     },
     "execution_count": 109,
     "metadata": {},
     "output_type": "execute_result"
    }
   ],
   "source": [
    "import coen_models\n",
    "reload(coen_models)"
   ]
  },
  {
   "cell_type": "code",
   "execution_count": 110,
   "metadata": {
    "collapsed": true
   },
   "outputs": [],
   "source": [
    "model = coen_models.MostLikelyClassPerRegion(classes, names)"
   ]
  },
  {
   "cell_type": "code",
   "execution_count": 111,
   "metadata": {
    "collapsed": false
   },
   "outputs": [
    {
     "data": {
      "text/plain": [
       "array(['WARRANTS', 'OTHER OFFENSES', 'LARCENY/THEFT', 'VEHICLE THEFT',\n",
       "       'VANDALISM', 'NON-CRIMINAL', 'ROBBERY', 'ASSAULT', 'WEAPON LAWS',\n",
       "       'BURGLARY', 'SUSPICIOUS OCC', 'DRUNKENNESS',\n",
       "       'FORGERY/COUNTERFEITING', 'DRUG/NARCOTIC', 'STOLEN PROPERTY',\n",
       "       'SECONDARY CODES', 'TRESPASS', 'MISSING PERSON', 'FRAUD',\n",
       "       'KIDNAPPING', 'RUNAWAY', 'DRIVING UNDER THE INFLUENCE',\n",
       "       'SEX OFFENSES FORCIBLE', 'PROSTITUTION', 'DISORDERLY CONDUCT',\n",
       "       'ARSON', 'FAMILY OFFENSES', 'LIQUOR LAWS', 'BRIBERY',\n",
       "       'EMBEZZLEMENT', 'SUICIDE', 'LOITERING', 'SEX OFFENSES NON FORCIBLE',\n",
       "       'EXTORTION', 'GAMBLING', 'BAD CHECKS', 'TREA', 'RECOVERED VEHICLE',\n",
       "       'PORNOGRAPHY/OBSCENE MAT'], dtype=object)"
      ]
     },
     "execution_count": 111,
     "metadata": {},
     "output_type": "execute_result"
    }
   ],
   "source": [
    "model.classes_"
   ]
  },
  {
   "cell_type": "code",
   "execution_count": 112,
   "metadata": {
    "collapsed": false
   },
   "outputs": [],
   "source": [
    "model.fit(train_data, labels)"
   ]
  },
  {
   "cell_type": "code",
   "execution_count": 113,
   "metadata": {
    "collapsed": false
   },
   "outputs": [
    {
     "data": {
      "text/plain": [
       "array([ 1.,  1.,  1.,  1.,  1.])"
      ]
     },
     "execution_count": 113,
     "metadata": {},
     "output_type": "execute_result"
    }
   ],
   "source": [
    "s=train_data[0:5]\n",
    "np.apply_along_axis(sum\n",
    "                    , 1, model.predict_proba(s))"
   ]
  },
  {
   "cell_type": "code",
   "execution_count": 114,
   "metadata": {
    "collapsed": false
   },
   "outputs": [
    {
     "data": {
      "text/plain": [
       "array([['2015-05-13 23:53:00', 'Wednesday', 'NORTHERN',\n",
       "        'OAK ST / LAGUNA ST', -122.425891675136, 37.7745985956747, 646],\n",
       "       ['2015-05-13 23:53:00', 'Wednesday', 'NORTHERN',\n",
       "        'OAK ST / LAGUNA ST', -122.425891675136, 37.7745985956747, 646],\n",
       "       ['2015-05-13 23:33:00', 'Wednesday', 'NORTHERN',\n",
       "        'VANNESS AV / GREENWICH ST', -122.42436302145, 37.8004143219856,\n",
       "        646],\n",
       "       ['2015-05-13 23:30:00', 'Wednesday', 'NORTHERN',\n",
       "        '1500 Block of LOMBARD ST', -122.42699532676599, 37.80087263276921,\n",
       "        646],\n",
       "       ['2015-05-13 23:30:00', 'Wednesday', 'PARK',\n",
       "        '100 Block of BRODERICK ST', -122.438737622757, 37.771541172057795,\n",
       "        646]], dtype=object)"
      ]
     },
     "execution_count": 114,
     "metadata": {},
     "output_type": "execute_result"
    }
   ],
   "source": [
    "s"
   ]
  },
  {
   "cell_type": "code",
   "execution_count": 101,
   "metadata": {
    "collapsed": true
   },
   "outputs": [],
   "source": [
    "s=train_data[0:5]"
   ]
  },
  {
   "cell_type": "code",
   "execution_count": 76,
   "metadata": {
    "collapsed": false
   },
   "outputs": [],
   "source": [
    "def predict(x):\n",
    "    return model.ratios[x[4]]\n"
   ]
  },
  {
   "cell_type": "code",
   "execution_count": 83,
   "metadata": {
    "collapsed": false
   },
   "outputs": [
    {
     "data": {
      "text/plain": [
       "array([[  4.36677905e-02,   1.16178356e-01,   2.71902749e-01,\n",
       "          5.97464267e-02,   5.13224750e-02,   9.72505817e-02,\n",
       "          2.50724156e-02,   7.89971034e-02,   7.49323330e-03,\n",
       "          5.55961822e-02,   3.10556057e-02,   3.49494278e-03,\n",
       "          1.22702882e-02,   4.28415404e-02,   6.64798898e-03,\n",
       "          9.48762999e-03,   7.40775915e-03,   1.85763806e-02,\n",
       "          1.95165962e-02,   2.19383636e-03,   8.35747186e-04,\n",
       "          2.46925305e-03,   4.13125030e-03,   1.73892398e-02,\n",
       "          4.29270146e-03,   1.41507194e-03,   1.13965525e-04,\n",
       "          1.17764376e-03,   1.70948288e-04,   1.24412365e-03,\n",
       "          6.36307517e-04,   1.83294553e-03,   8.54741441e-05,\n",
       "          2.27931051e-04,   9.49712712e-05,   5.12844864e-04,\n",
       "          9.49712712e-06,   2.59271570e-03,   4.74856356e-05],\n",
       "       [  4.36677905e-02,   1.16178356e-01,   2.71902749e-01,\n",
       "          5.97464267e-02,   5.13224750e-02,   9.72505817e-02,\n",
       "          2.50724156e-02,   7.89971034e-02,   7.49323330e-03,\n",
       "          5.55961822e-02,   3.10556057e-02,   3.49494278e-03,\n",
       "          1.22702882e-02,   4.28415404e-02,   6.64798898e-03,\n",
       "          9.48762999e-03,   7.40775915e-03,   1.85763806e-02,\n",
       "          1.95165962e-02,   2.19383636e-03,   8.35747186e-04,\n",
       "          2.46925305e-03,   4.13125030e-03,   1.73892398e-02,\n",
       "          4.29270146e-03,   1.41507194e-03,   1.13965525e-04,\n",
       "          1.17764376e-03,   1.70948288e-04,   1.24412365e-03,\n",
       "          6.36307517e-04,   1.83294553e-03,   8.54741441e-05,\n",
       "          2.27931051e-04,   9.49712712e-05,   5.12844864e-04,\n",
       "          9.49712712e-06,   2.59271570e-03,   4.74856356e-05],\n",
       "       [  4.36677905e-02,   1.16178356e-01,   2.71902749e-01,\n",
       "          5.97464267e-02,   5.13224750e-02,   9.72505817e-02,\n",
       "          2.50724156e-02,   7.89971034e-02,   7.49323330e-03,\n",
       "          5.55961822e-02,   3.10556057e-02,   3.49494278e-03,\n",
       "          1.22702882e-02,   4.28415404e-02,   6.64798898e-03,\n",
       "          9.48762999e-03,   7.40775915e-03,   1.85763806e-02,\n",
       "          1.95165962e-02,   2.19383636e-03,   8.35747186e-04,\n",
       "          2.46925305e-03,   4.13125030e-03,   1.73892398e-02,\n",
       "          4.29270146e-03,   1.41507194e-03,   1.13965525e-04,\n",
       "          1.17764376e-03,   1.70948288e-04,   1.24412365e-03,\n",
       "          6.36307517e-04,   1.83294553e-03,   8.54741441e-05,\n",
       "          2.27931051e-04,   9.49712712e-05,   5.12844864e-04,\n",
       "          9.49712712e-06,   2.59271570e-03,   4.74856356e-05],\n",
       "       [  4.36677905e-02,   1.16178356e-01,   2.71902749e-01,\n",
       "          5.97464267e-02,   5.13224750e-02,   9.72505817e-02,\n",
       "          2.50724156e-02,   7.89971034e-02,   7.49323330e-03,\n",
       "          5.55961822e-02,   3.10556057e-02,   3.49494278e-03,\n",
       "          1.22702882e-02,   4.28415404e-02,   6.64798898e-03,\n",
       "          9.48762999e-03,   7.40775915e-03,   1.85763806e-02,\n",
       "          1.95165962e-02,   2.19383636e-03,   8.35747186e-04,\n",
       "          2.46925305e-03,   4.13125030e-03,   1.73892398e-02,\n",
       "          4.29270146e-03,   1.41507194e-03,   1.13965525e-04,\n",
       "          1.17764376e-03,   1.70948288e-04,   1.24412365e-03,\n",
       "          6.36307517e-04,   1.83294553e-03,   8.54741441e-05,\n",
       "          2.27931051e-04,   9.49712712e-05,   5.12844864e-04,\n",
       "          9.49712712e-06,   2.59271570e-03,   4.74856356e-05],\n",
       "       [  4.70068138e-02,   1.25405581e-01,   1.85451817e-01,\n",
       "          8.03658339e-02,   5.29891304e-02,   1.20153310e-01,\n",
       "          1.94070409e-02,   7.12808241e-02,   7.23961713e-03,\n",
       "          5.85658663e-02,   3.35820896e-02,   7.58436080e-03,\n",
       "          1.05045425e-02,   5.21779689e-02,   3.54883193e-03,\n",
       "          9.00389358e-03,   5.88092148e-03,   5.50170344e-02,\n",
       "          1.97517846e-02,   1.90622972e-03,   9.83533420e-03,\n",
       "          3.56911097e-03,   4.29915639e-03,   1.01395198e-04,\n",
       "          5.49561973e-03,   1.31813757e-03,   5.27255029e-04,\n",
       "          3.02157690e-03,   1.41953277e-04,   1.01395198e-03,\n",
       "          4.05580792e-04,   4.66417910e-04,   1.21674238e-04,\n",
       "          1.62232317e-04,   2.02790396e-05,   3.04185594e-04,\n",
       "          0.00000000e+00,   2.37264763e-03,   0.00000000e+00]])"
      ]
     },
     "execution_count": 83,
     "metadata": {},
     "output_type": "execute_result"
    }
   ],
   "source": [
    "np.apply_along_axis(predict, 1, s)"
   ]
  },
  {
   "cell_type": "code",
   "execution_count": 78,
   "metadata": {
    "collapsed": false
   },
   "outputs": [
    {
     "data": {
      "text/plain": [
       "array(['2015-05-13 23:53:00', 'WARRANTS', 'WARRANT ARREST', 'Wednesday',\n",
       "       'NORTHERN', 'ARREST, BOOKED', 'OAK ST / LAGUNA ST',\n",
       "       -122.425891675136, 37.7745985956747, 646], dtype=object)"
      ]
     },
     "execution_count": 78,
     "metadata": {},
     "output_type": "execute_result"
    }
   ],
   "source": []
  },
  {
   "cell_type": "code",
   "execution_count": 172,
   "metadata": {
    "collapsed": false
   },
   "outputs": [
    {
     "ename": "TypeError",
     "evalue": "unsupported operand type(s) for +: 'dict' and 'dict'",
     "output_type": "error",
     "traceback": [
      "\u001b[0;31m---------------------------------------------------------------------------\u001b[0m",
      "\u001b[0;31mTypeError\u001b[0m                                 Traceback (most recent call last)",
      "\u001b[0;32m<ipython-input-172-618eb7771a43>\u001b[0m in \u001b[0;36m<module>\u001b[0;34m()\u001b[0m\n\u001b[0;32m----> 1\u001b[0;31m \u001b[0;34m{\u001b[0m\u001b[0;34m'a'\u001b[0m\u001b[0;34m:\u001b[0m\u001b[0;36m1\u001b[0m\u001b[0;34m,\u001b[0m \u001b[0;34m'b'\u001b[0m\u001b[0;34m:\u001b[0m\u001b[0;36m2\u001b[0m\u001b[0;34m}\u001b[0m \u001b[0;34m+\u001b[0m \u001b[0;34m{\u001b[0m\u001b[0;34m'c'\u001b[0m\u001b[0;34m:\u001b[0m \u001b[0;36m3\u001b[0m\u001b[0;34m}\u001b[0m\u001b[0;34m\u001b[0m\u001b[0m\n\u001b[0m",
      "\u001b[0;31mTypeError\u001b[0m: unsupported operand type(s) for +: 'dict' and 'dict'"
     ]
    }
   ],
   "source": [
    "{'a':1, 'b':2} + {'c': 3}"
   ]
  },
  {
   "cell_type": "code",
   "execution_count": 176,
   "metadata": {
    "collapsed": true
   },
   "outputs": [],
   "source": [
    "class Parent(object):\n",
    "    \n",
    "    def method(self):\n",
    "        return self.test()\n",
    "    \n",
    "    def test(self):\n",
    "        print \"Parent\"\n",
    "        \n",
    "class Child(Parent):\n",
    "    \n",
    "    def test(self):\n",
    "        print \"Child\""
   ]
  },
  {
   "cell_type": "code",
   "execution_count": 178,
   "metadata": {
    "collapsed": false
   },
   "outputs": [
    {
     "name": "stdout",
     "output_type": "stream",
     "text": [
      "Child\n"
     ]
    }
   ],
   "source": [
    "c = Child()\n",
    "c.method()"
   ]
  },
  {
   "cell_type": "code",
   "execution_count": 179,
   "metadata": {
    "collapsed": false
   },
   "outputs": [
    {
     "data": {
      "text/plain": [
       "array(['Dates', 'DayOfWeek', 'PdDistrict', 'Address', 'X', 'Y',\n",
       "       'WeekNumber'], dtype=object)"
      ]
     },
     "execution_count": 179,
     "metadata": {},
     "output_type": "execute_result"
    }
   ],
   "source": [
    "model.names"
   ]
  },
  {
   "cell_type": "code",
   "execution_count": null,
   "metadata": {
    "collapsed": true
   },
   "outputs": [],
   "source": []
  }
 ],
 "metadata": {
  "kernelspec": {
   "display_name": "Python 2",
   "language": "python",
   "name": "python2"
  },
  "language_info": {
   "codemirror_mode": {
    "name": "ipython",
    "version": 2
   },
   "file_extension": ".py",
   "mimetype": "text/x-python",
   "name": "python",
   "nbconvert_exporter": "python",
   "pygments_lexer": "ipython2",
   "version": "2.7.10"
  }
 },
 "nbformat": 4,
 "nbformat_minor": 0
}
