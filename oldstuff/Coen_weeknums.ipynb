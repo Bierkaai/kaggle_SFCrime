{
 "cells": [
  {
   "cell_type": "code",
   "execution_count": 29,
   "metadata": {
    "collapsed": false
   },
   "outputs": [],
   "source": [
    "import pandas as pd\n",
    "import datetime"
   ]
  },
  {
   "cell_type": "code",
   "execution_count": 30,
   "metadata": {
    "collapsed": false
   },
   "outputs": [],
   "source": [
    "data = pd.read_csv('../data/train.csv')"
   ]
  },
  {
   "cell_type": "code",
   "execution_count": 52,
   "metadata": {
    "collapsed": true
   },
   "outputs": [],
   "source": [
    "def week_from_date(date):\n",
    "    isodate = datetime.datetime.strptime(date, \"%Y-%m-%d\").isocalendar()\n",
    "    return isodate[1]"
   ]
  },
  {
   "cell_type": "code",
   "execution_count": 75,
   "metadata": {
    "collapsed": true
   },
   "outputs": [],
   "source": [
    "class WeekCalculator(object):\n",
    "    \n",
    "    def __init__(self):\n",
    "        self.week_dict = {}\n",
    "        self.cumulative_week_dict = {}\n",
    "    \n",
    "    def calc_weeks_in_year(self, y):\n",
    "        week = 1\n",
    "        d = 31\n",
    "        while week == 1:\n",
    "            date = \"{0}-12-{1}\".format(y, d)\n",
    "            isodate = datetime.datetime.strptime(date, \"%Y-%m-%d\").isocalendar()\n",
    "            week = isodate[1]\n",
    "            d -= 1\n",
    "        return isodate[1]\n",
    "    \n",
    "    def weeks_in_year(self, y):\n",
    "        if y in self.week_dict:\n",
    "            return self.week_dict[y]\n",
    "        w = self.calc_weeks_in_year(y)\n",
    "        self.week_dict[y] = w\n",
    "        return w\n",
    "    \n",
    "    def weeks_before_year(self, y):\n",
    "        if y in self.cumulative_week_dict:\n",
    "            return self.cumulative_week_dict[y]\n",
    "        year = y - 1\n",
    "        weeks = 0\n",
    "        while year >= 2003:\n",
    "            weeks += self.weeks_in_year(year)\n",
    "            year -= 1\n",
    "        self.cumulative_week_dict[y] = weeks\n",
    "        return weeks\n",
    "    \n",
    "    def calc_week(self, date):\n",
    "        isodate = datetime.datetime.strptime(date, \"%Y-%m-%d %H:%M:%S\").isocalendar()\n",
    "        week = isodate[1] + self.weeks_before_year(isodate[0])\n",
    "        return week\n",
    "    \n",
    "    \n",
    "        "
   ]
  }
 ],
 "metadata": {
  "kernelspec": {
   "display_name": "Python 2",
   "language": "python",
   "name": "python2"
  },
  "language_info": {
   "codemirror_mode": {
    "name": "ipython",
    "version": 2
   },
   "file_extension": ".py",
   "mimetype": "text/x-python",
   "name": "python",
   "nbconvert_exporter": "python",
   "pygments_lexer": "ipython2",
   "version": "2.7.10"
  }
 },
 "nbformat": 4,
 "nbformat_minor": 0
}
